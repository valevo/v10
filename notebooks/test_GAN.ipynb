{
 "cells": [
  {
   "cell_type": "code",
   "execution_count": 1,
   "metadata": {},
   "outputs": [],
   "source": [
    "from tqdm import tqdm\n",
    "\n",
    "import matplotlib.pyplot as plt"
   ]
  },
  {
   "cell_type": "code",
   "execution_count": 2,
   "metadata": {},
   "outputs": [],
   "source": [
    "import torch\n",
    "from torch.nn import TransformerEncoder, TransformerEncoderLayer, Embedding, RNN\n",
    "from torch.nn import Linear, Sigmoid, Softmax\n",
    "from torch.nn import NLLLoss, CrossEntropyLoss\n",
    "from torch.optim import SGD\n",
    "\n",
    "from torch.nn import MSELoss, L1Loss, BCELoss\n",
    "from torch.optim import Adam"
   ]
  },
  {
   "cell_type": "code",
   "execution_count": 3,
   "metadata": {},
   "outputs": [],
   "source": [
    "from nets import LM, AggregateHead, ReconstructHead, GAN"
   ]
  },
  {
   "cell_type": "code",
   "execution_count": 4,
   "metadata": {},
   "outputs": [],
   "source": [
    "from utils import iter_batches, merge_and_shuffle"
   ]
  },
  {
   "cell_type": "markdown",
   "metadata": {},
   "source": [
    "# Data"
   ]
  },
  {
   "cell_type": "code",
   "execution_count": 5,
   "metadata": {},
   "outputs": [],
   "source": [
    "val = 1\n",
    "ind = 0\n",
    "def val_in_seq(data):\n",
    "    return torch.tensor([val in seq for seq in data]).unsqueeze(1).float()\n",
    "def val_at_index(data):\n",
    "    return (data[:, ind] == val).unsqueeze(1).float()\n",
    "\n",
    "def is_sorted(data):\n",
    "    return ((X.sort(1).values == X).sum(1) == X.shape[1]).unsqueeze(1).float()\n",
    "\n",
    "def sum_of_seq(data):\n",
    "    return data.sum(1).unsqueeze(1).float()\n",
    "\n",
    "\n",
    "task_function = sum_of_seq    "
   ]
  },
  {
   "cell_type": "code",
   "execution_count": 6,
   "metadata": {},
   "outputs": [],
   "source": [
    "n, k, V, d = 100, 3, 5, 1\n",
    "X = torch.randint(V, size=(n, k))\n",
    "Y = task_function(X)\n",
    "\n",
    "eval_X = torch.randint(V, size=(10, k))\n",
    "eval_Y = sum_of_seq(eval_X)"
   ]
  },
  {
   "cell_type": "markdown",
   "metadata": {},
   "source": [
    "### GAN Data"
   ]
  },
  {
   "cell_type": "code",
   "execution_count": 7,
   "metadata": {},
   "outputs": [],
   "source": [
    "# true_X = torch.randint(100, (50, 6, 3)).float()\n",
    "true_X = X\n",
    "fake_X = torch.randint(V, (n, k))\n",
    "\n",
    "gan_X, gan_Y = merge_and_shuffle(true_X, fake_X)\n",
    "gan_Y = gan_Y.unsqueeze(-1).float()\n",
    "\n",
    "true_eval_X, fake_eval_X = eval_X, torch.randint(V, (10, k))  #.float()\n",
    "gan_eval_X, gan_eval_Y = merge_and_shuffle(true_eval_X, fake_eval_X)"
   ]
  },
  {
   "cell_type": "markdown",
   "metadata": {},
   "source": [
    "----\n",
    "# GAN Test Training"
   ]
  },
  {
   "cell_type": "code",
   "execution_count": 8,
   "metadata": {},
   "outputs": [],
   "source": [
    "# gan = GAN(V, 7)\n",
    "\n",
    "# losses = []"
   ]
  },
  {
   "cell_type": "code",
   "execution_count": 9,
   "metadata": {},
   "outputs": [],
   "source": [
    "# criterion = BCELoss()\n",
    "# opt = SGD(gan.parameters(), lr=0.01)"
   ]
  },
  {
   "cell_type": "code",
   "execution_count": 10,
   "metadata": {},
   "outputs": [],
   "source": [
    "# for _ in tqdm(range(50)):\n",
    "#     opt.zero_grad()\n",
    "\n",
    "#     preds = gan(gan_X)\n",
    "\n",
    "#     loss = criterion(preds, gan_Y)\n",
    "\n",
    "#     loss.backward()\n",
    "#     opt.step()\n",
    "        \n",
    "#     losses.append(loss)"
   ]
  },
  {
   "cell_type": "code",
   "execution_count": 11,
   "metadata": {},
   "outputs": [],
   "source": [
    "# plt.plot(range(len(losses)), losses, '--')"
   ]
  },
  {
   "cell_type": "code",
   "execution_count": 12,
   "metadata": {},
   "outputs": [],
   "source": [
    "# gan.eval()\n",
    "# list(zip(gan(gan_eval_X).detach(), gan_eval_Y))"
   ]
  },
  {
   "cell_type": "markdown",
   "metadata": {},
   "source": [
    "# Instantiations"
   ]
  },
  {
   "cell_type": "code",
   "execution_count": 13,
   "metadata": {},
   "outputs": [
    {
     "name": "stderr",
     "output_type": "stream",
     "text": [
      "/home/valentin/.local/lib/python3.6/site-packages/torch/nn/modules/rnn.py:61: UserWarning: dropout option adds dropout after all but last recurrent layer, so non-zero dropout expects num_layers greater than 1, but got dropout=0.1 and num_layers=1\n",
      "  \"num_layers={}\".format(dropout, num_layers))\n"
     ]
    }
   ],
   "source": [
    "lm = LM(V, embed_dim=64, num_layers=2)\n",
    "\n",
    "sum_head = AggregateHead(lm, aggregate_function=AggregateHead.aggr_sum)\n",
    "\n",
    "recon = ReconstructHead(lm)\n",
    "gan = GAN(V, 7)\n",
    "\n",
    "losses = {\"head\":[], \"recon\":[], \"gan\":[]}\n",
    "\n",
    "criterion = MSELoss()\n",
    "gan_criterion = BCELoss()\n",
    "\n",
    "recon_criterion = CrossEntropyLoss()\n",
    "\n",
    "optim = SGD(lm.parameters(), lr=0.01)\n",
    "gan_optim = Adam(gan.parameters(), lr=0.1)"
   ]
  },
  {
   "cell_type": "markdown",
   "metadata": {},
   "source": [
    "# Training"
   ]
  },
  {
   "cell_type": "code",
   "execution_count": 14,
   "metadata": {},
   "outputs": [],
   "source": [
    "# pre-train GAN for now\n",
    "# not possible: missing source for fake vectors\n",
    "# for _ in tqdm(range(100)):\n",
    "#     gan_optim.zero_grad()\n",
    "    \n",
    "    "
   ]
  },
  {
   "cell_type": "code",
   "execution_count": 15,
   "metadata": {},
   "outputs": [
    {
     "name": "stderr",
     "output_type": "stream",
     "text": [
      "  0%|          | 0/2000 [00:00<?, ?it/s]/home/valentin/.local/lib/python3.6/site-packages/torch/autograd/__init__.py:132: UserWarning: CUDA initialization: Found no NVIDIA driver on your system. Please check that you have an NVIDIA GPU and installed a driver from http://www.nvidia.com/Download/index.aspx (Triggered internally at  /pytorch/c10/cuda/CUDAFunctions.cpp:100.)\n",
      "  allow_unreachable=True)  # allow_unreachable flag\n",
      "100%|██████████| 2000/2000 [01:29<00:00, 22.29it/s]\n"
     ]
    }
   ],
   "source": [
    "alpha = 0.3\n",
    "\n",
    "lm.train()\n",
    "sum_head.train()\n",
    "gan.train()\n",
    "\n",
    "for _ in tqdm(range(2000)):\n",
    "    optim.zero_grad()\n",
    "    \n",
    "    encoded = lm(X)\n",
    "    \n",
    "    # use both heads\n",
    "    sums = sum_head(encoded)\n",
    "    recon_X = recon(encoded)\n",
    "#     print(recon_X.shape, X.flatten().shape, recon_X.view(-1, 5).shape)\n",
    "#     print(sums.shape, Y.shape)\n",
    "    \n",
    "    head_loss = criterion(sums, Y)\n",
    "    recon_loss = gan.loss(recon_X.argmax(-1))\n",
    "    \n",
    "    loss = alpha*head_loss + (1-alpha)*recon_loss  # loss =  alpha*criterion(sums, Y) + recon_criterion(recon_X.view(-1, V), X.flatten())\n",
    "    loss.backward()\n",
    "    optim.step()\n",
    "    losses[\"head\"].append(head_loss.detach())\n",
    "    losses[\"recon\"].append(recon_loss.detach())\n",
    "    \n",
    "    \n",
    "    # TRAIN GAN\n",
    "    gan_optim.zero_grad()\n",
    "    gan_X, gan_Y = merge_and_shuffle(X, recon_X.argmax(-1))\n",
    "    \n",
    "    judgements = gan(gan_X)\n",
    "    gan_loss = gan_criterion(judgements, gan_Y.unsqueeze(-1).float())\n",
    "\n",
    "    gan_loss.backward()\n",
    "    gan_optim.step()\n",
    "    losses[\"gan\"].append(gan_loss.detach())"
   ]
  },
  {
   "cell_type": "markdown",
   "metadata": {},
   "source": [
    "# Inspection"
   ]
  },
  {
   "cell_type": "code",
   "execution_count": 19,
   "metadata": {},
   "outputs": [
    {
     "data": {
      "text/plain": [
       "(0.0, 1.0)"
      ]
     },
     "execution_count": 19,
     "metadata": {},
     "output_type": "execute_result"
    },
    {
     "data": {
      "image/png": "[encoded data removed]",
      "text/plain": [
       "<Figure size 432x288 with 1 Axes>"
      ]
     },
     "metadata": {
      "needs_background": "light"
     },
     "output_type": "display_data"
    }
   ],
   "source": [
    "for name, ls in losses.items(): plt.plot(range(len(ls)), ls, \"--\", label=name)\n",
    "plt.legend()\n",
    "plt.ylim([0.0, 1.0])"
   ]
  },
  {
   "cell_type": "code",
   "execution_count": 20,
   "metadata": {},
   "outputs": [
    {
     "name": "stdout",
     "output_type": "stream",
     "text": [
      "[(tensor([4.2158]), tensor([4.])), (tensor([6.1145]), tensor([6.])), (tensor([5.8726]), tensor([6.])), (tensor([9.9936]), tensor([10.])), (tensor([1.7349]), tensor([2.])), (tensor([3.8986]), tensor([4.])), (tensor([10.1404]), tensor([10.])), (tensor([5.1026]), tensor([5.])), (tensor([7.6820]), tensor([8.])), (tensor([9.8940]), tensor([10.]))]\n",
      "\n",
      "[(tensor([1, 3, 3]), tensor([3, 1, 0])), (tensor([1, 3, 2]), tensor([4, 0, 2])), (tensor([2, 1, 3]), tensor([2, 4, 0])), (tensor([1, 1, 1]), tensor([3, 4, 3])), (tensor([3, 3, 3]), tensor([1, 1, 0])), (tensor([3, 3, 1]), tensor([0, 1, 3])), (tensor([1, 1, 1]), tensor([3, 4, 3])), (tensor([3, 3, 1]), tensor([0, 1, 4])), (tensor([3, 1, 1]), tensor([1, 3, 4])), (tensor([1, 1, 1]), tensor([3, 4, 3]))]\n",
      "\n",
      "[(tensor([0.0104]), tensor(0)), (tensor([0.2486]), tensor(0)), (tensor([0.2593]), tensor(0)), (tensor([0.9938]), tensor(1)), (tensor([0.2593]), tensor(0)), (tensor([1.0000]), tensor(1)), (tensor([0.9921]), tensor(1)), (tensor([0.2499]), tensor(0)), (tensor([0.9998]), tensor(1)), (tensor([0.9922]), tensor(1)), (tensor([0.2593]), tensor(0)), (tensor([1.0000]), tensor(1)), (tensor([0.2577]), tensor(0)), (tensor([0.2431]), tensor(1)), (tensor([0.2431]), tensor(1)), (tensor([0.9831]), tensor(1)), (tensor([0.2577]), tensor(0)), (tensor([0.0002]), tensor(0)), (tensor([0.2431]), tensor(1)), (tensor([0.0061]), tensor(0))]\n"
     ]
    }
   ],
   "source": [
    "eval_enc = lm(eval_X)\n",
    "eval_rec = recon(eval_enc).argmax(-1)\n",
    "\n",
    "print(list(zip(sum_head(eval_enc).detach(), eval_Y)))\n",
    "print()\n",
    "print(list(zip(eval_rec, eval_X)))\n",
    "\n",
    "print()\n",
    "eval_gan_X, eval_gan_Y = merge_and_shuffle(eval_X, eval_rec)\n",
    "\n",
    "js = gan(eval_gan_X)\n",
    "print(list(zip(js.detach(), eval_gan_Y)))"
   ]
  },
  {
   "cell_type": "code",
   "execution_count": 34,
   "metadata": {},
   "outputs": [],
   "source": [
    "rand = torch.randint(V, size=(500, k))\n",
    "recon_vecs = recon(lm(rand)) "
   ]
  },
  {
   "cell_type": "code",
   "execution_count": 50,
   "metadata": {},
   "outputs": [
    {
     "data": {
      "text/plain": [
       "[(0, 303), (1, 304), (2, 299), (3, 289), (4, 305)]"
      ]
     },
     "execution_count": 50,
     "metadata": {},
     "output_type": "execute_result"
    }
   ],
   "source": [
    "from collections import Counter\n",
    "\n",
    "vals = rand.flatten().tolist()\n",
    "real_counts = sorted(Counter(vals).items(), key=lambda t: t[0])"
   ]
  },
  {
   "cell_type": "code",
   "execution_count": 49,
   "metadata": {},
   "outputs": [
    {
     "data": {
      "text/plain": [
       "tensor([222.7667, 396.4016, 336.0142, 319.6255, 225.1921],\n",
       "       grad_fn=<SumBackward1>)"
      ]
     },
     "execution_count": 49,
     "metadata": {},
     "output_type": "execute_result"
    }
   ],
   "source": [
    "recon_vecs.sum(0).sum(0)"
   ]
  }
 ],
 "metadata": {
  "kernelspec": {
   "display_name": "Python 3",
   "language": "python",
   "name": "python3"
  },
  "language_info": {
   "codemirror_mode": {
    "name": "ipython",
    "version": 3
   },
   "file_extension": ".py",
   "mimetype": "text/x-python",
   "name": "python",
   "nbconvert_exporter": "python",
   "pygments_lexer": "ipython3",
   "version": "3.6.9"
  }
 },
 "nbformat": 4,
 "nbformat_minor": 4
}
