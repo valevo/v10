{
 "cells": [
  {
   "cell_type": "code",
   "execution_count": 1,
   "metadata": {},
   "outputs": [],
   "source": [
    "from tqdm import tqdm"
   ]
  },
  {
   "cell_type": "markdown",
   "metadata": {},
   "source": [
    "# Using the Torch Transformer Module"
   ]
  },
  {
   "cell_type": "code",
   "execution_count": 2,
   "metadata": {},
   "outputs": [],
   "source": [
    "import torch\n",
    "from torch.nn import Transformer, Embedding, LogSoftmax, NLLLoss\n",
    "from torch.optim import SGD"
   ]
  },
  {
   "cell_type": "code",
   "execution_count": 4,
   "metadata": {},
   "outputs": [],
   "source": [
    "n, k, V = 10, 3, 5\n",
    "end = V\n",
    "\n",
    "vecs = torch.randint(V-1, size=(n, k))+1\n",
    "trgt = vecs.sort(-1)[0]\n",
    "V += 1\n",
    "\n",
    "\n",
    "trgt_ = torch.cat((trgt[:, 1:], torch.ones((n, 1))*end), dim=-1).long()\n",
    "\n",
    "#vecs_ = vecs.transpose(0,1)\n",
    "#trgt_ = trgt.transpose(0,1)"
   ]
  },
  {
   "cell_type": "code",
   "execution_count": 5,
   "metadata": {},
   "outputs": [
    {
     "data": {
      "text/plain": [
       "(tensor([[2, 3, 4],\n",
       "         [1, 3, 4],\n",
       "         [1, 1, 2],\n",
       "         [1, 2, 3],\n",
       "         [2, 4, 4],\n",
       "         [1, 2, 3],\n",
       "         [1, 2, 4],\n",
       "         [1, 1, 4],\n",
       "         [1, 3, 3],\n",
       "         [1, 3, 4]]),\n",
       " tensor([[3, 4, 5],\n",
       "         [3, 4, 5],\n",
       "         [1, 2, 5],\n",
       "         [2, 3, 5],\n",
       "         [4, 4, 5],\n",
       "         [2, 3, 5],\n",
       "         [2, 4, 5],\n",
       "         [1, 4, 5],\n",
       "         [3, 3, 5],\n",
       "         [3, 4, 5]]))"
      ]
     },
     "execution_count": 5,
     "metadata": {},
     "output_type": "execute_result"
    }
   ],
   "source": [
    "trgt, trgt_"
   ]
  },
  {
   "cell_type": "code",
   "execution_count": 16,
   "metadata": {},
   "outputs": [],
   "source": [
    "class VtoP(torch.nn.Module):\n",
    "    def __init__(self, vocab_dim):\n",
    "        super().__init__()\n",
    "        self.emb = Embedding(V, V)\n",
    "        self.tr = Transformer(d_model=V, nhead=V//2)\n",
    "        self.sigma = LogSoftmax(dim=-1)\n",
    "        \n",
    "    def forward(self, x, y):\n",
    "        x_emb = self.emb(x)\n",
    "        y_emb = self.emb(x)\n",
    "        out = self.tr(x_emb, y_emb)\n",
    "        out_p = self.sigma(out)\n",
    "        return out_p"
   ]
  },
  {
   "cell_type": "code",
   "execution_count": 17,
   "metadata": {},
   "outputs": [],
   "source": [
    "model = VtoP(V)\n",
    "criterion = NLLLoss()\n",
    "optimiser = SGD(model.parameters(), lr=0.01)\n",
    "\n",
    "model.train()\n",
    "\n",
    "losses = []"
   ]
  },
  {
   "cell_type": "code",
   "execution_count": 18,
   "metadata": {},
   "outputs": [
    {
     "name": "stderr",
     "output_type": "stream",
     "text": [
      "  0%|          | 0/1103 [00:00<?, ?it/s]/home/valentin/.local/lib/python3.6/site-packages/torch/autograd/__init__.py:132: UserWarning: CUDA initialization: Found no NVIDIA driver on your system. Please check that you have an NVIDIA GPU and installed a driver from http://www.nvidia.com/Download/index.aspx (Triggered internally at  /pytorch/c10/cuda/CUDAFunctions.cpp:100.)\n",
      "  allow_unreachable=True)  # allow_unreachable flag\n",
      "100%|██████████| 1103/1103 [00:35<00:00, 30.69it/s]\n"
     ]
    }
   ],
   "source": [
    "for _ in tqdm(range(1103)):\n",
    "        optimiser.zero_grad()\n",
    "        \n",
    "        out_ = model(vecs, trgt)\n",
    "        out = out_ # .argmax(-1)  # out_.transpose(0, 1).argmax(-1)\n",
    "        \n",
    "        loss = criterion(out.flatten(0,1), trgt.flatten(0,1))\n",
    "            \n",
    "        loss.backward()\n",
    "        optimiser.step()\n",
    "        \n",
    "        losses.append(loss.detach().item())"
   ]
  },
  {
   "cell_type": "code",
   "execution_count": null,
   "metadata": {},
   "outputs": [],
   "source": [
    "out.flatten(0,1).shape, trgt.flatten(0,1).shape"
   ]
  },
  {
   "cell_type": "code",
   "execution_count": null,
   "metadata": {},
   "outputs": [],
   "source": [
    "import matplotlib.pyplot as plt\n",
    "\n",
    "plt.plot(range(len(losses)), losses, \"--\")"
   ]
  },
  {
   "cell_type": "code",
   "execution_count": null,
   "metadata": {},
   "outputs": [],
   "source": [
    "test_vecs_ = torch.randint(V, size=(10, k))\n",
    "none_vecs_ = vecs.sort(-1)[0] #torch.zeros((10, k))\n",
    "\n",
    "\n",
    "model.eval()\n",
    "\n",
    "\n",
    "test_out = model(test_vecs_, none_vecs_)\n",
    "\n",
    "\n",
    "print(test_vecs_)\n",
    "print()\n",
    "print(test_out.argmax(-1))"
   ]
  },
  {
   "cell_type": "code",
   "execution_count": null,
   "metadata": {},
   "outputs": [],
   "source": [
    "model.eval()\n",
    "\n",
    "\n",
    "test_out = model(test_vecs_, none_vecs_)\n",
    "\n",
    "\n",
    "print(test_vecs_.transpose(0,1))\n",
    "print()\n",
    "print(test_out.transpose(0,1).argmax(-1))"
   ]
  },
  {
   "cell_type": "markdown",
   "metadata": {},
   "source": [
    "## Using a TransformerDecoder Only"
   ]
  },
  {
   "cell_type": "code",
   "execution_count": 7,
   "metadata": {},
   "outputs": [],
   "source": [
    "from torch.nn import TransformerDecoder, TransformerDecoderLayer"
   ]
  },
  {
   "cell_type": "code",
   "execution_count": 8,
   "metadata": {},
   "outputs": [
    {
     "ename": "NameError",
     "evalue": "name 'model' is not defined",
     "output_type": "error",
     "traceback": [
      "\u001b[0;31m---------------------------------------------------------------------------\u001b[0m",
      "\u001b[0;31mNameError\u001b[0m                                 Traceback (most recent call last)",
      "\u001b[0;32m<ipython-input-8-1182f410da4b>\u001b[0m in \u001b[0;36m<module>\u001b[0;34m\u001b[0m\n\u001b[1;32m      3\u001b[0m \u001b[0;34m\u001b[0m\u001b[0m\n\u001b[1;32m      4\u001b[0m \u001b[0;34m\u001b[0m\u001b[0m\n\u001b[0;32m----> 5\u001b[0;31m \u001b[0mmodel\u001b[0m\u001b[0;34m.\u001b[0m\u001b[0meval\u001b[0m\u001b[0;34m(\u001b[0m\u001b[0;34m)\u001b[0m\u001b[0;34m\u001b[0m\u001b[0;34m\u001b[0m\u001b[0m\n\u001b[0m\u001b[1;32m      6\u001b[0m \u001b[0;34m\u001b[0m\u001b[0m\n\u001b[1;32m      7\u001b[0m \u001b[0;34m\u001b[0m\u001b[0m\n",
      "\u001b[0;31mNameError\u001b[0m: name 'model' is not defined"
     ]
    }
   ],
   "source": [
    "test_vecs_ = torch.randint(V, size=(10, k)).transpose(0,1)\n",
    "none_vecs_ = torch.zeros((10, k)).transpose(0,1)\n",
    "\n",
    "\n",
    "model.eval()\n",
    "\n",
    "\n",
    "test_out = model(test_vecs_, none_vecs_)\n",
    "\n",
    "print(test_out.argmax(-1))"
   ]
  },
  {
   "cell_type": "code",
   "execution_count": null,
   "metadata": {},
   "outputs": [],
   "source": []
  },
  {
   "cell_type": "markdown",
   "metadata": {},
   "source": [
    "---\n",
    "# Using Huggingface's transformers library (BERT, GPT-2, ...)"
   ]
  },
  {
   "cell_type": "code",
   "execution_count": null,
   "metadata": {},
   "outputs": [],
   "source": [
    "import torch\n",
    "from transformers import BertConfig, BertModel"
   ]
  },
  {
   "cell_type": "code",
   "execution_count": null,
   "metadata": {},
   "outputs": [],
   "source": [
    "conf = BertConfig()\n",
    "\n",
    "model = BertModel(conf)"
   ]
  },
  {
   "cell_type": "code",
   "execution_count": null,
   "metadata": {},
   "outputs": [],
   "source": [
    "tt = torch.tensor([[1,2,3]])\n",
    "out = model(tt, return_dict=True)"
   ]
  },
  {
   "cell_type": "code",
   "execution_count": null,
   "metadata": {},
   "outputs": [],
   "source": [
    "out.last_hidden_state.shape"
   ]
  },
  {
   "cell_type": "code",
   "execution_count": null,
   "metadata": {},
   "outputs": [],
   "source": [
    "tt = torch.tensor([[1,2,3,4], [5,6,7,8]]).reshape(-1)"
   ]
  }
 ],
 "metadata": {
  "kernelspec": {
   "display_name": "Python 3",
   "language": "python",
   "name": "python3"
  },
  "language_info": {
   "codemirror_mode": {
    "name": "ipython",
    "version": 3
   },
   "file_extension": ".py",
   "mimetype": "text/x-python",
   "name": "python",
   "nbconvert_exporter": "python",
   "pygments_lexer": "ipython3",
   "version": "3.6.9"
  }
 },
 "nbformat": 4,
 "nbformat_minor": 4
}
