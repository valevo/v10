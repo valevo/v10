{
 "cells": [
  {
   "cell_type": "code",
   "execution_count": 1,
   "metadata": {},
   "outputs": [],
   "source": [
    "from tqdm import tqdm\n",
    "\n",
    "import matplotlib.pyplot as plt"
   ]
  },
  {
   "cell_type": "code",
   "execution_count": 2,
   "metadata": {},
   "outputs": [],
   "source": [
    "import torch\n",
    "from torch.nn import TransformerEncoder, TransformerEncoderLayer, Embedding, Linear, Softmax, NLLLoss, RNN, ELU\n",
    "from torch.optim import SGD\n",
    "\n",
    "from torch.nn import MSELoss, L1Loss\n",
    "from torch.optim import Adam"
   ]
  },
  {
   "cell_type": "markdown",
   "metadata": {},
   "source": [
    "# Utils"
   ]
  },
  {
   "cell_type": "code",
   "execution_count": 3,
   "metadata": {},
   "outputs": [],
   "source": [
    "def iter_batches(batch_size, train_in, train_out, shuffle=False):\n",
    "    if shuffle:\n",
    "        pass\n",
    "    \n",
    "    cur = 0\n",
    "    batch_in, batch_out = train_in[cur:cur+batch_size], train_out[cur:cur+batch_size]\n",
    "    yield batch_in, batch_out\n",
    "    \n",
    "    while batch_in.shape[0] == batch_size:\n",
    "        cur += batch_size\n",
    "        batch_in, batch_out = train_in[cur:cur+batch_size], train_out[cur:cur+batch_size]\n",
    "        if batch_in.numel() > 0:\n",
    "            yield batch_in, batch_out"
   ]
  },
  {
   "cell_type": "markdown",
   "metadata": {},
   "source": [
    "# Data"
   ]
  },
  {
   "cell_type": "code",
   "execution_count": 4,
   "metadata": {},
   "outputs": [],
   "source": [
    "val = 1\n",
    "ind = 0\n",
    "def val_in_seq(data):\n",
    "    return torch.tensor([val in seq for seq in data]).unsqueeze(1).float()\n",
    "\n",
    "def val_at_index(data):\n",
    "    return (data[:, ind] == val).unsqueeze(1).float()\n",
    "\n",
    "\n",
    "def is_sorted(data):\n",
    "    return ((X.sort(1).values == X).sum(1) == X.shape[1]).unsqueeze(1).float()\n",
    "\n",
    "def sum_of_seq(data):\n",
    "    return data.sum(1).unsqueeze(1).float()\n",
    "\n",
    "\n",
    "task_function = sum_of_seq    "
   ]
  },
  {
   "cell_type": "code",
   "execution_count": 5,
   "metadata": {},
   "outputs": [],
   "source": [
    "n, k, V = 100, 3, 5\n",
    "X = torch.randint(V, size=(n, k))\n",
    "Ys = [sum_of_seq(X), val_in_seq(X)]\n",
    "\n",
    "eval_X = torch.randint(V, size=(10, k))\n",
    "eval_Ys = sum_of_seq(eval_X), val_in_seq(eval_X)\n"
   ]
  },
  {
   "cell_type": "markdown",
   "metadata": {},
   "source": [
    "# Definitions"
   ]
  },
  {
   "cell_type": "code",
   "execution_count": 6,
   "metadata": {},
   "outputs": [],
   "source": [
    "class LM(torch.nn.Module):\n",
    "    def __init__(self, vocab_dim, embed_dim=4):\n",
    "        super().__init__()\n",
    "        \n",
    "        self.vocab_dim = vocab_dim\n",
    "        self.embed_dim = embed_dim\n",
    "        self.emb = Embedding(vocab_dim, self.embed_dim)\n",
    "        \n",
    "        # nhead needs to divide d_model (embedding dimension)\n",
    "        self.encoder_layer = TransformerEncoderLayer(d_model=self.embed_dim, nhead=self.embed_dim//2)\n",
    "        self.encoder = TransformerEncoder(self.encoder_layer, num_layers=1)\n",
    "\n",
    "        \n",
    "    def forward(self, x):\n",
    "        x_emb = self.emb(x)\n",
    "        out = self.encoder(x_emb)\n",
    "#         out_p = self.sigma(self.linear(out))\n",
    "        return out  # output shape is (x.shape[0], x.shape[1], self.embed_dim)"
   ]
  },
  {
   "cell_type": "code",
   "execution_count": 7,
   "metadata": {},
   "outputs": [],
   "source": [
    "class Head(torch.nn.Module):\n",
    "    def __init__(self, lm, out_dim):\n",
    "        super().__init__()\n",
    "        self.lm = lm\n",
    "        self.in_dim = lm.embed_dim\n",
    "        self.out_dim = out_dim\n",
    "        \n",
    "        self.linear = Linear(in_features=self.in_dim, out_features=self.out_dim)\n",
    "    \n",
    "    def forward(self, lm_input):\n",
    "        return self.linear(lm(lm_input))\n",
    "    \n",
    "    \n",
    "class AggregateHead(Head):\n",
    "    @staticmethod\n",
    "    def aggr_sum(lm_output):\n",
    "        # lm output shape:(batch, seq_len, transformer_dim)\n",
    "        return lm_output.sum(1)\n",
    "    \n",
    "    @staticmethod\n",
    "    def aggr_mean(lm_output):\n",
    "        # lm output shape:(batch, seq_len, transformer_dim)\n",
    "        return lm_output.mean(1)\n",
    "    \n",
    "    def __init__(self, lm, aggregate_function):\n",
    "        super().__init__(lm, out_dim=1)\n",
    "        \n",
    "        self.aggr_f = aggregate_function\n",
    "        from torch.nn import Identity\n",
    "        self.final_layer = Identity()\n",
    "        \n",
    "    def forward(self, lm_input):\n",
    "        lm_out = lm(lm_input)\n",
    "        aggr = self.aggr_f(lm_out)\n",
    "        return self.final_layer(self.linear(aggr))"
   ]
  },
  {
   "cell_type": "code",
   "execution_count": 8,
   "metadata": {},
   "outputs": [],
   "source": [
    "class Hydra(torch.nn.Module):\n",
    "    def __init__(self, *heads):\n",
    "        self.heads = heads\n",
    "        \n",
    "    def forward(self, lm_input):\n",
    "        return [h(lm_input) for h in self.heads]\n",
    "    \n",
    "    def step(self, lm_input, outputs, criteria):\n",
    "        for  h, out, crit in zip(self.heads, outputs, criteria):\n",
    "            pred = h(lm_input)\n",
    "            yield crit(pred, out)\n",
    "            \n",
    "            \n",
    "            \n",
    "            \n",
    "            \n",
    "#         loss.backward()\n",
    "#         opt.step()"
   ]
  },
  {
   "cell_type": "markdown",
   "metadata": {},
   "source": [
    "# Instantiations"
   ]
  },
  {
   "cell_type": "code",
   "execution_count": 10,
   "metadata": {},
   "outputs": [],
   "source": [
    "lm = LM(V, embed_dim=24)\n",
    "\n",
    "sum_head = AggregateHead(lm, aggregate_function=AggregateHead.aggr_sum)\n",
    "ind_head = AggregateHead(lm, aggregate_function=AggregateHead.aggr_sum)\n",
    "\n",
    "hyd = Hydra(sum_head, ind_head)\n",
    "\n",
    "losses = [[], []]\n",
    "\n",
    "def put_lsss(lss_ls):\n",
    "    for ls, l in zip(losses, lss_ls):\n",
    "        ls.append(l.detach().item())\n"
   ]
  },
  {
   "cell_type": "markdown",
   "metadata": {},
   "source": [
    "# Training"
   ]
  },
  {
   "cell_type": "code",
   "execution_count": 11,
   "metadata": {},
   "outputs": [],
   "source": [
    "for m in hyd.heads: m.train()\n",
    "\n",
    "crits = [MSELoss()]*2 # may be same object\n",
    "optims = [Adam(sum_head.parameters(), lr=0.01),  Adam(ind_head.parameters(), lr=0.01)]"
   ]
  },
  {
   "cell_type": "code",
   "execution_count": 12,
   "metadata": {},
   "outputs": [
    {
     "name": "stderr",
     "output_type": "stream",
     "text": [
      "  0%|          | 0/1000 [00:00<?, ?it/s]/home/valentin/.local/lib/python3.6/site-packages/torch/autograd/__init__.py:132: UserWarning: CUDA initialization: Found no NVIDIA driver on your system. Please check that you have an NVIDIA GPU and installed a driver from http://www.nvidia.com/Download/index.aspx (Triggered internally at  /pytorch/c10/cuda/CUDAFunctions.cpp:100.)\n",
      "  allow_unreachable=True)  # allow_unreachable flag\n",
      "100%|██████████| 1000/1000 [00:26<00:00, 37.32it/s]\n"
     ]
    }
   ],
   "source": [
    "for _ in tqdm(range(1000)):\n",
    "    for o in optims: o.zero_grad()\n",
    "\n",
    "\n",
    "    cur_losses = list(hyd.step(X, Ys, crits))\n",
    "\n",
    "    for l in cur_losses: l.backward()\n",
    "    for o in optims: o.step()\n",
    "        \n",
    "    put_lsss(cur_losses)"
   ]
  },
  {
   "cell_type": "markdown",
   "metadata": {},
   "source": [
    "# Inspection"
   ]
  },
  {
   "cell_type": "code",
   "execution_count": 13,
   "metadata": {},
   "outputs": [
    {
     "data": {
      "image/png": "[encoded data removed]",
      "text/plain": [
       "<Figure size 432x288 with 1 Axes>"
      ]
     },
     "metadata": {
      "needs_background": "light"
     },
     "output_type": "display_data"
    }
   ],
   "source": [
    "for ls in losses: plt.plot(range(len(ls)), ls, \"--\")"
   ]
  },
  {
   "cell_type": "code",
   "execution_count": 14,
   "metadata": {},
   "outputs": [
    {
     "name": "stdout",
     "output_type": "stream",
     "text": [
      "tensor([[4, 3, 2],\n",
      "        [3, 4, 0],\n",
      "        [4, 2, 0],\n",
      "        [2, 2, 0],\n",
      "        [0, 2, 4],\n",
      "        [2, 0, 0],\n",
      "        [2, 1, 0],\n",
      "        [4, 4, 2],\n",
      "        [3, 1, 4],\n",
      "        [2, 4, 1]]) tensor([[ 9.4089],\n",
      "        [ 7.2998],\n",
      "        [ 6.2285],\n",
      "        [ 4.1321],\n",
      "        [ 6.2313],\n",
      "        [ 2.0262],\n",
      "        [ 3.0542],\n",
      "        [10.4499],\n",
      "        [ 8.3304],\n",
      "        [ 7.2749]], grad_fn=<AddmmBackward>) tensor([[ 9.],\n",
      "        [ 7.],\n",
      "        [ 6.],\n",
      "        [ 4.],\n",
      "        [ 6.],\n",
      "        [ 2.],\n",
      "        [ 3.],\n",
      "        [10.],\n",
      "        [ 8.],\n",
      "        [ 7.]])\n",
      "\n",
      "\n",
      "tensor([[4, 3, 2],\n",
      "        [3, 4, 0],\n",
      "        [4, 2, 0],\n",
      "        [2, 2, 0],\n",
      "        [0, 2, 4],\n",
      "        [2, 0, 0],\n",
      "        [2, 1, 0],\n",
      "        [4, 4, 2],\n",
      "        [3, 1, 4],\n",
      "        [2, 4, 1]]) tensor([[0.2102],\n",
      "        [0.1378],\n",
      "        [0.1731],\n",
      "        [0.1021],\n",
      "        [0.1699],\n",
      "        [0.0541],\n",
      "        [0.7706],\n",
      "        [0.3077],\n",
      "        [0.8515],\n",
      "        [0.8777]], grad_fn=<AddmmBackward>) tensor([[0.],\n",
      "        [0.],\n",
      "        [0.],\n",
      "        [0.],\n",
      "        [0.],\n",
      "        [0.],\n",
      "        [1.],\n",
      "        [0.],\n",
      "        [1.],\n",
      "        [1.]])\n",
      "\n",
      "\n"
     ]
    }
   ],
   "source": [
    "for h, eval_Y in zip(hyd.heads, eval_Ys):\n",
    "    h.eval()\n",
    "    print(eval_X, h(eval_X), eval_Y)\n",
    "    print(\"\\n\")"
   ]
  },
  {
   "cell_type": "code",
   "execution_count": 19,
   "metadata": {},
   "outputs": [
    {
     "name": "stdout",
     "output_type": "stream",
     "text": [
      "tensor([10.], requires_grad=True)\n"
     ]
    }
   ],
   "source": [
    "x = torch.tensor([10.], requires_grad=True)\n",
    "x.backward()\n",
    "\n",
    "\n",
    "print(x)"
   ]
  }
 ],
 "metadata": {
  "kernelspec": {
   "display_name": "Python 3",
   "language": "python",
   "name": "python3"
  },
  "language_info": {
   "codemirror_mode": {
    "name": "ipython",
    "version": 3
   },
   "file_extension": ".py",
   "mimetype": "text/x-python",
   "name": "python",
   "nbconvert_exporter": "python",
   "pygments_lexer": "ipython3",
   "version": "3.6.9"
  }
 },
 "nbformat": 4,
 "nbformat_minor": 4
}
